{
 "cells": [
  {
   "cell_type": "markdown",
   "metadata": {},
   "source": [
    "#  Data Science Tools and Ecosystem"
   ]
  },
  {
   "cell_type": "markdown",
   "metadata": {},
   "source": [
    "This notebook provides a comprehensive overview of Data Science Tools and explores their roles within the broader Data Science Ecosystem. "
   ]
  },
  {
   "cell_type": "markdown",
   "metadata": {},
   "source": [
    "# Objectives:\n",
    "\n",
    "* List of some popular languages in Data Science\n",
    "* Common Data Science libraries\n",
    "* Data Science Tools used\n",
    "* Evaluating simple arithmetic expression"
   ]
  },
  {
   "cell_type": "markdown",
   "metadata": {},
   "source": [
    "The world of data science is buzzing with languages, each offering unique strengths and applications. Some of the popular languages used by Data Scientist are:\n",
    "1. Python\n",
    "2. R\n",
    "3. Julia\n",
    "4. VBA(Visual Basic for Appliation)\n",
    "5. Scala\n",
    "6. SQL"
   ]
  },
  {
   "cell_type": "markdown",
   "metadata": {},
   "source": [
    "Data Science is a multidisciplinary field that includes different elements from various domains, such as Data Visualization, Model Building, and Data Manipulation. Various libraries are used to perform the mentioned tasks from various domains. \n",
    "\n",
    "Some common Data Science Libraries used are:\n",
    "\n",
    "1. NumPy\n",
    "2. Pandas\n",
    "3. Matplotlib\n",
    "4. Scikit Learn\n",
    "5. Seaborn\n",
    "6. TensorFlow\n",
    "7. Keras"
   ]
  },
  {
   "cell_type": "markdown",
   "metadata": {},
   "source": [
    "| Data Science Tools |\n",
    "| :-: |\n",
    "| Apache Spark |\n",
    "| Tableau |\n",
    "| TensorFlow |\n",
    "| Jupyter Notebook |\n",
    "| Scikit Learn |\n",
    "| Django |\n",
    "| Flask |\n",
    "| Apache Hadoop |\n",
    "| Apache Hive |\n",
    "| SQL |\n",
    "| Microsoft PowerBI |"
   ]
  },
  {
   "cell_type": "markdown",
   "metadata": {},
   "source": [
    "### Below are a few examples of evaluating arithmetic expressions in Python"
   ]
  },
  {
   "cell_type": "code",
   "execution_count": 1,
   "metadata": {},
   "outputs": [
    {
     "data": {
      "text/plain": [
       "17"
      ]
     },
     "execution_count": 1,
     "metadata": {},
     "output_type": "execute_result"
    }
   ],
   "source": [
    "(3*4)+5\n",
    "# This is a simple arithmetic expression to multiply and add integers"
   ]
  },
  {
   "cell_type": "code",
   "execution_count": 4,
   "metadata": {},
   "outputs": [
    {
     "name": "stdout",
     "output_type": "stream",
     "text": [
      "3.3333333333333335 hr\n"
     ]
    }
   ],
   "source": [
    "# This expression will evaluate the conversion of minutes to hours. For example, we will convert 200 mins to hours\n",
    "hours = 200/60\n",
    "print(hours,\"hr\")"
   ]
  },
  {
   "cell_type": "markdown",
   "metadata": {},
   "source": [
    "## Author\n",
    "Prasanna Shinde"
   ]
  },
  {
   "cell_type": "code",
   "execution_count": null,
   "metadata": {},
   "outputs": [],
   "source": []
  }
 ],
 "metadata": {
  "kernelspec": {
   "display_name": "Python 3",
   "language": "python",
   "name": "python3"
  },
  "language_info": {
   "codemirror_mode": {
    "name": "ipython",
    "version": 3
   },
   "file_extension": ".py",
   "mimetype": "text/x-python",
   "name": "python",
   "nbconvert_exporter": "python",
   "pygments_lexer": "ipython3",
   "version": "3.8.5"
  }
 },
 "nbformat": 4,
 "nbformat_minor": 4
}
